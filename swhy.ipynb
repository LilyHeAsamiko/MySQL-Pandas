{
  "nbformat": 4,
  "nbformat_minor": 0,
  "metadata": {
    "colab": {
      "provenance": [],
      "authorship_tag": "ABX9TyOrEVRXOlyxr5hmgdptYhcu",
      "include_colab_link": true
    },
    "kernelspec": {
      "name": "python3",
      "display_name": "Python 3"
    },
    "language_info": {
      "name": "python"
    }
  },
  "cells": [
    {
      "cell_type": "markdown",
      "metadata": {
        "id": "view-in-github",
        "colab_type": "text"
      },
      "source": [
        "<a href=\"https://colab.research.google.com/github/LilyHeAsamiko/MySQL-Pandas/blob/main/swhy.ipynb\" target=\"_parent\"><img src=\"https://colab.research.google.com/assets/colab-badge.svg\" alt=\"Open In Colab\"/></a>"
      ]
    },
    {
      "cell_type": "code",
      "source": [
        "#!pip install Crypto\n",
        "!pip install pycryptodome"
      ],
      "metadata": {
        "colab": {
          "base_uri": "https://localhost:8080/"
        },
        "id": "mJej0NyFuM7U",
        "outputId": "e233e921-916d-4fb7-bfba-fd07972df7b6"
      },
      "execution_count": null,
      "outputs": [
        {
          "output_type": "stream",
          "name": "stdout",
          "text": [
            "Looking in indexes: https://pypi.org/simple, https://us-python.pkg.dev/colab-wheels/public/simple/\n",
            "Requirement already satisfied: Crypto in /usr/local/lib/python3.9/dist-packages (1.4.1)\n",
            "Requirement already satisfied: Naked in /usr/local/lib/python3.9/dist-packages (from Crypto) (0.1.32)\n",
            "Requirement already satisfied: shellescape in /usr/local/lib/python3.9/dist-packages (from Crypto) (3.8.1)\n",
            "Requirement already satisfied: pyyaml in /usr/local/lib/python3.9/dist-packages (from Naked->Crypto) (6.0)\n",
            "Requirement already satisfied: requests in /usr/local/lib/python3.9/dist-packages (from Naked->Crypto) (2.27.1)\n",
            "Requirement already satisfied: idna<4,>=2.5 in /usr/local/lib/python3.9/dist-packages (from requests->Naked->Crypto) (3.4)\n",
            "Requirement already satisfied: charset-normalizer~=2.0.0 in /usr/local/lib/python3.9/dist-packages (from requests->Naked->Crypto) (2.0.12)\n",
            "Requirement already satisfied: certifi>=2017.4.17 in /usr/local/lib/python3.9/dist-packages (from requests->Naked->Crypto) (2022.12.7)\n",
            "Requirement already satisfied: urllib3<1.27,>=1.21.1 in /usr/local/lib/python3.9/dist-packages (from requests->Naked->Crypto) (1.26.15)\n",
            "Looking in indexes: https://pypi.org/simple, https://us-python.pkg.dev/colab-wheels/public/simple/\n",
            "Collecting pycryptodome\n",
            "  Downloading pycryptodome-3.17-cp35-abi3-manylinux_2_17_x86_64.manylinux2014_x86_64.whl (2.1 MB)\n",
            "\u001b[2K     \u001b[90m━━━━━━━━━━━━━━━━━━━━━━━━━━━━━━━━━━━━━━━━\u001b[0m \u001b[32m2.1/2.1 MB\u001b[0m \u001b[31m24.5 MB/s\u001b[0m eta \u001b[36m0:00:00\u001b[0m\n",
            "\u001b[?25hInstalling collected packages: pycryptodome\n",
            "Successfully installed pycryptodome-3.17\n"
          ]
        }
      ]
    },
    {
      "cell_type": "code",
      "source": [],
      "metadata": {
        "id": "puVapa6E-yse"
      },
      "execution_count": null,
      "outputs": []
    },
    {
      "cell_type": "markdown",
      "source": [],
      "metadata": {
        "id": "8d-h-yEpugzQ"
      }
    },
    {
      "cell_type": "code",
      "source": [
        "import requests\n",
        "from Crypto.Cipher import AES\n",
        "import json"
      ],
      "metadata": {
        "id": "2aq7kUthVScx"
      },
      "execution_count": null,
      "outputs": []
    },
    {
      "cell_type": "code",
      "source": [
        "url='http://www.swhysc.com/swhyscyjzhPC/#/financeProducts'"
      ],
      "metadata": {
        "id": "yVOZt37Vaipy"
      },
      "execution_count": null,
      "outputs": []
    },
    {
      "cell_type": "code",
      "source": [
        "headers={'User-Agent':'Mozilla/5.0(Windows NT 10.0; Win64；x64）AppleWebKit/537.36 （KHTML，like）'}"
      ],
      "metadata": {
        "id": "GFjBtDs8Wfd_"
      },
      "execution_count": null,
      "outputs": []
    },
    {
      "cell_type": "code",
      "source": [
        "Aaheaders = {\n",
        "    'User-Agent': 'Mozilla/5.0 (Windows NT 10.0; Win64; x64) AppleWebKit/537.36 (KHTML, like Gecko) Chrome/93.0.4577.63 Safari/537.36 Edg/93.0.961.38'\n",
        "}\n",
        "\n",
        "res = ''\n",
        "while res == '':\n",
        "  try:\n",
        "    res = requests.get(url, verify=False)\n",
        "    break\n",
        "  #  sys.exit()\n",
        "  except:\n",
        "    print('connection refuse by the server..')\n",
        "    time.sleep(5)\n",
        "    continueresponse= requests.get(url, headers=headers).text\n",
        "\n",
        "f = 'rewin-swhysc1234'  # 秘钥\n",
        "m = '0123456789ABCDEF'  # 偏移值\n",
        "#m = n(\"9kvl\")\n",
        "# 转码  utf-8?  字节 16进制\n",
        "m = bytes(m, encoding='utf-8')\n",
        "f = bytes(f, encoding='utf-8')\n",
        "# 创建一个AES算法 秘钥  模式 偏移值\n",
        "cipher =q AES.new(f, AES.MODE_CBC, m)\n",
        "# 解密\n",
        "decrypt_content = cipher.decrypt(bytes.fromhex(res))\n",
        "result = str(decrypt_content, encoding='utf-8')\n",
        "# OKCS7 填充\n",
        "length = len(result) # 字符串长度\n",
        "unpadding = ord(result[length - 1]) # 得到最后一个字符串的ASCII\n",
        "result = result[0:length - unpadding]\n",
        "result = json.loads(result)['data']['list'] # dupms json.dumps()  dict  格式 json的\n",
        "# {\"键\":\"值\"}\n",
        "for i in result:\n",
        "    print(i)"
      ],
      "metadata": {
        "id": "NbaEI--3--Vb",
        "colab": {
          "base_uri": "https://localhost:8080/",
          "height": 166
        },
        "outputId": "c04d04c8-b57d-4e21-e9e2-3b1036ddf715"
      },
      "execution_count": 22,
      "outputs": [
        {
          "output_type": "error",
          "ename": "SyntaxError",
          "evalue": "ignored",
          "traceback": [
            "\u001b[0;36m  File \u001b[0;32m\"<ipython-input-22-765b60f576a6>\"\u001b[0;36m, line \u001b[0;32m23\u001b[0m\n\u001b[0;31m    cipher =q AES.new(f, AES.MODE_CBC, m)\u001b[0m\n\u001b[0m              ^\u001b[0m\n\u001b[0;31mSyntaxError\u001b[0m\u001b[0;31m:\u001b[0m invalid syntax\n"
          ]
        }
      ]
    }
  ]
}